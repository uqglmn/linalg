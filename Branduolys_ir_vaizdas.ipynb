{
 "cells": [
  {
   "cell_type": "markdown",
   "id": "297539b4-085f-4bac-91cc-95d384a33e58",
   "metadata": {},
   "source": [
    "**Pavyzdys.** Suraskite tiesinio atvaizdavimo $f : \\mathbb{R}^4 \\to \\mathbb{R}^4$ apibrėžto taisykle\n",
    "\n",
    "$\n",
    "f(x,y,w,z) = (2x + 2w, y-3z, x + w, 4z)\n",
    "$\n",
    "\n",
    "matricą standartinėje bazėje, branduolio ir vaizdo bazes."
   ]
  },
  {
   "cell_type": "code",
   "execution_count": 1,
   "id": "525b9f52-5409-4b15-a9e4-a089413e8884",
   "metadata": {},
   "outputs": [],
   "source": [
    "# Importuojame Symbolic Python\n",
    "import sympy as sym\n",
    "sym.init_printing(use_unicode=True)"
   ]
  },
  {
   "cell_type": "code",
   "execution_count": 2,
   "id": "855aa5ba-9c00-4cc4-9471-7483965e8703",
   "metadata": {},
   "outputs": [
    {
     "data": {
      "image/png": "[encoded data removed]",
      "text/latex": [
       "$\\displaystyle \\left[\\begin{matrix}2 & 0 & 2 & 0\\\\0 & 1 & 0 & -3\\\\1 & 0 & 1 & 0\\\\0 & 0 & 0 & 4\\end{matrix}\\right]$"
      ],
      "text/plain": [
       "⎡2  0  2  0 ⎤\n",
       "⎢           ⎥\n",
       "⎢0  1  0  -3⎥\n",
       "⎢           ⎥\n",
       "⎢1  0  1  0 ⎥\n",
       "⎢           ⎥\n",
       "⎣0  0  0  4 ⎦"
      ]
     },
     "execution_count": 2,
     "metadata": {},
     "output_type": "execute_result"
    }
   ],
   "source": [
    "# Atvaizdavimo matrica\n",
    "F = sym.Matrix([[2, 0, 2, 0], [0, 1, 0, -3], [1, 0, 1, 0], [0, 0, 0, 4]]); F"
   ]
  },
  {
   "cell_type": "code",
   "execution_count": 3,
   "id": "a8aeefda-b168-4ac3-8aa6-5a6392c638ac",
   "metadata": {},
   "outputs": [
    {
     "data": {
      "image/png": "[encoded data removed]",
      "text/latex": [
       "$\\displaystyle \\left[ \\left[\\begin{matrix}-1\\\\0\\\\1\\\\0\\end{matrix}\\right]\\right]$"
      ],
      "text/plain": [
       "⎡⎡-1⎤⎤\n",
       "⎢⎢  ⎥⎥\n",
       "⎢⎢0 ⎥⎥\n",
       "⎢⎢  ⎥⎥\n",
       "⎢⎢1 ⎥⎥\n",
       "⎢⎢  ⎥⎥\n",
       "⎣⎣0 ⎦⎦"
      ]
     },
     "execution_count": 3,
     "metadata": {},
     "output_type": "execute_result"
    }
   ],
   "source": [
    "# Branduolio bazė\n",
    "F.nullspace()"
   ]
  },
  {
   "cell_type": "code",
   "execution_count": 4,
   "id": "79b59560-0ab5-44d4-8040-c26b3e543c50",
   "metadata": {},
   "outputs": [
    {
     "data": {
      "image/png": "[encoded data removed]",
      "text/latex": [
       "$\\displaystyle \\left[ \\left[\\begin{matrix}2\\\\0\\\\1\\\\0\\end{matrix}\\right], \\  \\left[\\begin{matrix}0\\\\1\\\\0\\\\0\\end{matrix}\\right], \\  \\left[\\begin{matrix}0\\\\-3\\\\0\\\\4\\end{matrix}\\right]\\right]$"
      ],
      "text/plain": [
       "⎡⎡2⎤  ⎡0⎤  ⎡0 ⎤⎤\n",
       "⎢⎢ ⎥  ⎢ ⎥  ⎢  ⎥⎥\n",
       "⎢⎢0⎥  ⎢1⎥  ⎢-3⎥⎥\n",
       "⎢⎢ ⎥, ⎢ ⎥, ⎢  ⎥⎥\n",
       "⎢⎢1⎥  ⎢0⎥  ⎢0 ⎥⎥\n",
       "⎢⎢ ⎥  ⎢ ⎥  ⎢  ⎥⎥\n",
       "⎣⎣0⎦  ⎣0⎦  ⎣4 ⎦⎦"
      ]
     },
     "execution_count": 4,
     "metadata": {},
     "output_type": "execute_result"
    }
   ],
   "source": [
    "# Vaizdo bazė\n",
    "F.columnspace()"
   ]
  }
 ],
 "metadata": {
  "kernelspec": {
   "display_name": "Python 3 (ipykernel)",
   "language": "python",
   "name": "python3"
  },
  "language_info": {
   "codemirror_mode": {
    "name": "ipython",
    "version": 3
   },
   "file_extension": ".py",
   "mimetype": "text/x-python",
   "name": "python",
   "nbconvert_exporter": "python",
   "pygments_lexer": "ipython3",
   "version": "3.11.7"
  }
 },
 "nbformat": 4,
 "nbformat_minor": 5
}
