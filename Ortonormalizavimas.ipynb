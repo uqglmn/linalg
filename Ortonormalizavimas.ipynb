{
 "cells": [
  {
   "cell_type": "markdown",
   "id": "d65caefc-266d-40ca-b75d-43766a8428ee",
   "metadata": {},
   "source": [
    "**Pavyzdys** \n",
    "\n",
    "Ortonormalizuokite vektorius\n",
    "\n",
    "$\n",
    "v_1 = (1,i,0,0), \\quad\n",
    "v_2 = (0,2,2 i,0), \\quad\n",
    "v_3 = (0,0,3,3 i), \\quad\n",
    "$\n",
    "\n",
    "skaliarinėje erdvėje $\\mathbb{C}^4$.\n",
    "\n",
    "Suprojektuokite vektorių $v = (1,2,3,4)$ į poerdvį $U = {\\rm span}_{\\mathbb{C}}\\{v_1, v_2, v_3\\}$."
   ]
  },
  {
   "cell_type": "markdown",
   "id": "86962bb6-ecc9-4a7c-846d-6e7d4e7ebe5b",
   "metadata": {},
   "source": [
    "**Sprendimas**"
   ]
  },
  {
   "cell_type": "code",
   "execution_count": 1,
   "id": "e5252a1e-9eb9-456c-bd1a-d621be5f21b6",
   "metadata": {},
   "outputs": [],
   "source": [
    "# Importuojame SymPy\n",
    "import sympy as sym\n",
    "from sympy import I\n",
    "sym.init_printing(use_unicode=True)"
   ]
  },
  {
   "cell_type": "code",
   "execution_count": 2,
   "id": "0edef08e-3dcb-424b-b84d-146d14be0e37",
   "metadata": {},
   "outputs": [],
   "source": [
    "# Apibrėžiame skaliarinę sandaugą\n",
    "def inner(v,w):\n",
    "    return v.dot(sym.conjugate(w))"
   ]
  },
  {
   "cell_type": "code",
   "execution_count": 3,
   "id": "42f88fa1-9c0a-4c1e-baab-9b255400249d",
   "metadata": {},
   "outputs": [],
   "source": [
    "# Apibrėžiame vektorius, kuriuos norime ortonormalizuoti\n",
    "v1 = sym.Matrix([1, I, 0, 0])\n",
    "v2 = sym.Matrix([0, 2, 2*I, 0])\n",
    "v3 = sym.Matrix([0, 0, 3, 3*I])\n",
    "V  = [v1, v2, v3]"
   ]
  },
  {
   "cell_type": "code",
   "execution_count": 4,
   "id": "75d2f9de-5307-4be7-abb3-94b5e9ccab5c",
   "metadata": {},
   "outputs": [
    {
     "data": {
      "image/png": "[encoded data removed]",
      "text/latex": [
       "$\\displaystyle \\left[ \\left[\\begin{matrix}\\frac{\\sqrt{2}}{2}\\\\\\frac{\\sqrt{2} i}{2}\\\\0\\\\0\\end{matrix}\\right], \\  \\left[\\begin{matrix}\\frac{\\sqrt{6} i}{6}\\\\\\frac{\\sqrt{6}}{6}\\\\\\frac{\\sqrt{6} i}{3}\\\\0\\end{matrix}\\right], \\  \\left[\\begin{matrix}- \\frac{\\sqrt{3}}{6}\\\\\\frac{\\sqrt{3} i}{6}\\\\\\frac{\\sqrt{3}}{6}\\\\\\frac{\\sqrt{3} i}{2}\\end{matrix}\\right]\\right]$"
      ],
      "text/plain": [
       "⎡                ⎡-√3 ⎤⎤\n",
       "⎢        ⎡√6⋅ⅈ⎤  ⎢────⎥⎥\n",
       "⎢⎡ √2 ⎤  ⎢────⎥  ⎢ 6  ⎥⎥\n",
       "⎢⎢ ── ⎥  ⎢ 6  ⎥  ⎢    ⎥⎥\n",
       "⎢⎢ 2  ⎥  ⎢    ⎥  ⎢√3⋅ⅈ⎥⎥\n",
       "⎢⎢    ⎥  ⎢ √6 ⎥  ⎢────⎥⎥\n",
       "⎢⎢√2⋅ⅈ⎥  ⎢ ── ⎥  ⎢ 6  ⎥⎥\n",
       "⎢⎢────⎥, ⎢ 6  ⎥, ⎢    ⎥⎥\n",
       "⎢⎢ 2  ⎥  ⎢    ⎥  ⎢ √3 ⎥⎥\n",
       "⎢⎢    ⎥  ⎢√6⋅ⅈ⎥  ⎢ ── ⎥⎥\n",
       "⎢⎢ 0  ⎥  ⎢────⎥  ⎢ 6  ⎥⎥\n",
       "⎢⎢    ⎥  ⎢ 3  ⎥  ⎢    ⎥⎥\n",
       "⎢⎣ 0  ⎦  ⎢    ⎥  ⎢√3⋅ⅈ⎥⎥\n",
       "⎢        ⎣ 0  ⎦  ⎢────⎥⎥\n",
       "⎣                ⎣ 2  ⎦⎦"
      ]
     },
     "execution_count": 4,
     "metadata": {},
     "output_type": "execute_result"
    }
   ],
   "source": [
    "# Ortonormalizuojame\n",
    "U = sym.GramSchmidt(V, True)\n",
    "U"
   ]
  },
  {
   "cell_type": "code",
   "execution_count": 5,
   "id": "a03bb4ee-63b2-4f4b-9a2f-f515255af031",
   "metadata": {},
   "outputs": [
    {
     "data": {
      "image/png": "[encoded data removed]",
      "text/latex": [
       "$\\displaystyle \\left[\\begin{matrix}1 & 0 & 0\\\\0 & 1 & 0\\\\0 & 0 & 1\\end{matrix}\\right]$"
      ],
      "text/plain": [
       "⎡1  0  0⎤\n",
       "⎢       ⎥\n",
       "⎢0  1  0⎥\n",
       "⎢       ⎥\n",
       "⎣0  0  1⎦"
      ]
     },
     "execution_count": 5,
     "metadata": {},
     "output_type": "execute_result"
    }
   ],
   "source": [
    "# Patikrinimas \n",
    "k = 3\n",
    "A = sym.zeros(k, k)\n",
    "for i in range(k):\n",
    "    for j in range(k):\n",
    "        A[i,j] = inner(U[i],U[j])\n",
    "A"
   ]
  },
  {
   "cell_type": "code",
   "execution_count": 6,
   "id": "d569d0da-22d5-4af9-972e-e322f72ba77d",
   "metadata": {},
   "outputs": [],
   "source": [
    "# Projekcinis operatorius\n",
    "# v - vektorius kurį projektuojame\n",
    "# U - poerdvio į kurį projektuojame ortonormali bazė\n",
    "def proj(v,U):\n",
    "    rows, cols = len(U[0]), len(U)\n",
    "    w = sym.zeros(rows,1)\n",
    "    for i in range(cols):\n",
    "        w += inner(v,U[i])*U[i]\n",
    "    return sym.simplify(w)"
   ]
  },
  {
   "cell_type": "code",
   "execution_count": 7,
   "id": "6833f87e-22da-49ac-b8f5-4fbce0260265",
   "metadata": {},
   "outputs": [
    {
     "data": {
      "image/png": "[encoded data removed]",
      "text/latex": [
       "$\\displaystyle \\left[\\begin{matrix}\\frac{3}{2} + \\frac{i}{2}\\\\\\frac{5}{2} - \\frac{i}{2}\\\\\\frac{5}{2} - \\frac{i}{2}\\\\\\frac{7}{2} + \\frac{i}{2}\\end{matrix}\\right]$"
      ],
      "text/plain": [
       "⎡3   ⅈ⎤\n",
       "⎢─ + ─⎥\n",
       "⎢2   2⎥\n",
       "⎢     ⎥\n",
       "⎢5   ⅈ⎥\n",
       "⎢─ - ─⎥\n",
       "⎢2   2⎥\n",
       "⎢     ⎥\n",
       "⎢5   ⅈ⎥\n",
       "⎢─ - ─⎥\n",
       "⎢2   2⎥\n",
       "⎢     ⎥\n",
       "⎢7   ⅈ⎥\n",
       "⎢─ + ─⎥\n",
       "⎣2   2⎦"
      ]
     },
     "execution_count": 7,
     "metadata": {},
     "output_type": "execute_result"
    }
   ],
   "source": [
    "v = sym.Matrix([1, 2, 3, 4])\n",
    "proj(v,U)"
   ]
  }
 ],
 "metadata": {
  "kernelspec": {
   "display_name": "Python 3 (ipykernel)",
   "language": "python",
   "name": "python3"
  },
  "language_info": {
   "codemirror_mode": {
    "name": "ipython",
    "version": 3
   },
   "file_extension": ".py",
   "mimetype": "text/x-python",
   "name": "python",
   "nbconvert_exporter": "python",
   "pygments_lexer": "ipython3",
   "version": "3.11.7"
  }
 },
 "nbformat": 4,
 "nbformat_minor": 5
}
