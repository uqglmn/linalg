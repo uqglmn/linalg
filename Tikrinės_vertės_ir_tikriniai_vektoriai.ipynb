{
 "cells": [
  {
   "cell_type": "markdown",
   "id": "2b3ce336-6b6f-4b2a-97cb-d4d04bdd818e",
   "metadata": {},
   "source": [
    "### Pavyzdys 1\n",
    "\n",
    "Suraskite tiesinio atvaizdavimo $f : \\mathbb{R}^4 \\to \\mathbb{R}^4$ apibrėžto taisykle\n",
    "\n",
    "$\n",
    "f(x,y,w,z) = (2x + 2w, y-3z, x + w, 4z)\n",
    "$\n",
    "\n",
    "tikrinius vektorius ir tikrines erdves."
   ]
  },
  {
   "cell_type": "code",
   "execution_count": 1,
   "id": "bb4f8f55-f8e7-4405-a25a-7be849c26f3c",
   "metadata": {},
   "outputs": [],
   "source": [
    "# Importuojame Symbolic Python\n",
    "import sympy as sym\n",
    "sym.init_printing(use_unicode=True)"
   ]
  },
  {
   "cell_type": "code",
   "execution_count": 2,
   "id": "896bec22-fe9b-46c4-b9d6-bbb054c49928",
   "metadata": {},
   "outputs": [
    {
     "data": {
      "image/png": "[encoded data removed]",
      "text/latex": [
       "$\\displaystyle \\left[\\begin{matrix}2 & 0 & 2 & 0\\\\0 & 1 & 0 & -3\\\\1 & 0 & 1 & 0\\\\0 & 0 & 0 & 4\\end{matrix}\\right]$"
      ],
      "text/plain": [
       "⎡2  0  2  0 ⎤\n",
       "⎢           ⎥\n",
       "⎢0  1  0  -3⎥\n",
       "⎢           ⎥\n",
       "⎢1  0  1  0 ⎥\n",
       "⎢           ⎥\n",
       "⎣0  0  0  4 ⎦"
      ]
     },
     "execution_count": 2,
     "metadata": {},
     "output_type": "execute_result"
    }
   ],
   "source": [
    "# Atvaizdavimo matrica\n",
    "F = sym.Matrix([[2, 0, 2, 0], [0, 1, 0, -3], [1, 0, 1, 0], [0, 0, 0, 4]]); F"
   ]
  },
  {
   "cell_type": "code",
   "execution_count": 3,
   "id": "6d39ce84-899a-411a-859b-eb3bef3ebefd",
   "metadata": {},
   "outputs": [
    {
     "data": {
      "image/png": "[encoded data removed]",
      "text/latex": [
       "$\\displaystyle \\left\\{ 0 : 1, \\  1 : 1, \\  3 : 1, \\  4 : 1\\right\\}$"
      ],
      "text/plain": [
       "{0: 1, 1: 1, 3: 1, 4: 1}"
      ]
     },
     "execution_count": 3,
     "metadata": {},
     "output_type": "execute_result"
    }
   ],
   "source": [
    "# Tikrinės vertės ir jų algebriniai kartotinumai\n",
    "F.eigenvals()"
   ]
  },
  {
   "cell_type": "code",
   "execution_count": 4,
   "id": "6782808f-7438-483a-9313-5c6cb6de41d9",
   "metadata": {},
   "outputs": [
    {
     "data": {
      "image/png": "[encoded data removed]",
      "text/latex": [
       "$\\displaystyle \\left[ \\left( 0, \\  1, \\  \\left[ \\left[\\begin{matrix}-1\\\\0\\\\1\\\\0\\end{matrix}\\right]\\right]\\right), \\  \\left( 1, \\  1, \\  \\left[ \\left[\\begin{matrix}0\\\\1\\\\0\\\\0\\end{matrix}\\right]\\right]\\right), \\  \\left( 3, \\  1, \\  \\left[ \\left[\\begin{matrix}2\\\\0\\\\1\\\\0\\end{matrix}\\right]\\right]\\right), \\  \\left( 4, \\  1, \\  \\left[ \\left[\\begin{matrix}0\\\\-1\\\\0\\\\1\\end{matrix}\\right]\\right]\\right)\\right]$"
      ],
      "text/plain": [
       "⎡⎛      ⎡⎡-1⎤⎤⎞  ⎛      ⎡⎡0⎤⎤⎞  ⎛      ⎡⎡2⎤⎤⎞  ⎛      ⎡⎡0 ⎤⎤⎞⎤\n",
       "⎢⎜      ⎢⎢  ⎥⎥⎟  ⎜      ⎢⎢ ⎥⎥⎟  ⎜      ⎢⎢ ⎥⎥⎟  ⎜      ⎢⎢  ⎥⎥⎟⎥\n",
       "⎢⎜      ⎢⎢0 ⎥⎥⎟  ⎜      ⎢⎢1⎥⎥⎟  ⎜      ⎢⎢0⎥⎥⎟  ⎜      ⎢⎢-1⎥⎥⎟⎥\n",
       "⎢⎜0, 1, ⎢⎢  ⎥⎥⎟, ⎜1, 1, ⎢⎢ ⎥⎥⎟, ⎜3, 1, ⎢⎢ ⎥⎥⎟, ⎜4, 1, ⎢⎢  ⎥⎥⎟⎥\n",
       "⎢⎜      ⎢⎢1 ⎥⎥⎟  ⎜      ⎢⎢0⎥⎥⎟  ⎜      ⎢⎢1⎥⎥⎟  ⎜      ⎢⎢0 ⎥⎥⎟⎥\n",
       "⎢⎜      ⎢⎢  ⎥⎥⎟  ⎜      ⎢⎢ ⎥⎥⎟  ⎜      ⎢⎢ ⎥⎥⎟  ⎜      ⎢⎢  ⎥⎥⎟⎥\n",
       "⎣⎝      ⎣⎣0 ⎦⎦⎠  ⎝      ⎣⎣0⎦⎦⎠  ⎝      ⎣⎣0⎦⎦⎠  ⎝      ⎣⎣1 ⎦⎦⎠⎦"
      ]
     },
     "execution_count": 4,
     "metadata": {},
     "output_type": "execute_result"
    }
   ],
   "source": [
    "# Tikrinės vertės, jų algebriniai kartotinumai, ir tikriniai vektoriai\n",
    "F.eigenvects()"
   ]
  },
  {
   "cell_type": "markdown",
   "id": "fbcd7103-eb04-40f4-82e2-ced80567243f",
   "metadata": {},
   "source": [
    "### Pavyzdys 2\n",
    "\n",
    "Suraskite tiesinio atvaizdavimo $f : \\mathbb{C}^4 \\to \\mathbb{C}^4$ apibrėžto taisykle\n",
    "\n",
    "$\n",
    "f(x,y,w,z) = (3z, 2y+iw, 2w-iy, 3x)\n",
    "$\n",
    "\n",
    "tikrinius vektorius ir tikrines erdves."
   ]
  },
  {
   "cell_type": "code",
   "execution_count": 5,
   "id": "85cbd728-f9bb-4cce-a69d-8092c9015edc",
   "metadata": {},
   "outputs": [
    {
     "data": {
      "image/png": "[encoded data removed]",
      "text/latex": [
       "$\\displaystyle \\left[\\begin{matrix}0 & 0 & 0 & 3\\\\0 & 2 & i & 0\\\\0 & - i & 2 & 0\\\\3 & 0 & 0 & 0\\end{matrix}\\right]$"
      ],
      "text/plain": [
       "⎡0  0   0  3⎤\n",
       "⎢           ⎥\n",
       "⎢0  2   ⅈ  0⎥\n",
       "⎢           ⎥\n",
       "⎢0  -ⅈ  2  0⎥\n",
       "⎢           ⎥\n",
       "⎣3  0   0  0⎦"
      ]
     },
     "execution_count": 5,
     "metadata": {},
     "output_type": "execute_result"
    }
   ],
   "source": [
    "# Atvaizdavimo matrica\n",
    "F = sym.Matrix([[0, 0, 0, 3], [0, 2, sym.I, 0], [0, -sym.I, 2, 0], [3, 0, 0, 0]]); F"
   ]
  },
  {
   "cell_type": "code",
   "execution_count": 6,
   "id": "050f98cc-5c0e-4d10-a659-4eda3e89ce79",
   "metadata": {},
   "outputs": [
    {
     "data": {
      "image/png": "[encoded data removed]",
      "text/latex": [
       "$\\displaystyle \\left\\{ -3 : 1, \\  1 : 1, \\  3 : 2\\right\\}$"
      ],
      "text/plain": [
       "{-3: 1, 1: 1, 3: 2}"
      ]
     },
     "execution_count": 6,
     "metadata": {},
     "output_type": "execute_result"
    }
   ],
   "source": [
    "# Tikrinės vertės ir jų algebriniai kartotinumai\n",
    "F.eigenvals()"
   ]
  },
  {
   "cell_type": "code",
   "execution_count": 7,
   "id": "369791d4-9ed8-46c3-9e21-32812798632e",
   "metadata": {},
   "outputs": [
    {
     "data": {
      "image/png": "[encoded data removed]",
      "text/latex": [
       "$\\displaystyle \\left[ \\left( -3, \\  1, \\  \\left[ \\left[\\begin{matrix}-1\\\\0\\\\0\\\\1\\end{matrix}\\right]\\right]\\right), \\  \\left( 1, \\  1, \\  \\left[ \\left[\\begin{matrix}0\\\\- i\\\\1\\\\0\\end{matrix}\\right]\\right]\\right), \\  \\left( 3, \\  2, \\  \\left[ \\left[\\begin{matrix}0\\\\i\\\\1\\\\0\\end{matrix}\\right], \\  \\left[\\begin{matrix}1\\\\0\\\\0\\\\1\\end{matrix}\\right]\\right]\\right)\\right]$"
      ],
      "text/plain": [
       "⎡⎛       ⎡⎡-1⎤⎤⎞  ⎛      ⎡⎡0 ⎤⎤⎞  ⎛      ⎡⎡0⎤  ⎡1⎤⎤⎞⎤\n",
       "⎢⎜       ⎢⎢  ⎥⎥⎟  ⎜      ⎢⎢  ⎥⎥⎟  ⎜      ⎢⎢ ⎥  ⎢ ⎥⎥⎟⎥\n",
       "⎢⎜       ⎢⎢0 ⎥⎥⎟  ⎜      ⎢⎢-ⅈ⎥⎥⎟  ⎜      ⎢⎢ⅈ⎥  ⎢0⎥⎥⎟⎥\n",
       "⎢⎜-3, 1, ⎢⎢  ⎥⎥⎟, ⎜1, 1, ⎢⎢  ⎥⎥⎟, ⎜3, 2, ⎢⎢ ⎥, ⎢ ⎥⎥⎟⎥\n",
       "⎢⎜       ⎢⎢0 ⎥⎥⎟  ⎜      ⎢⎢1 ⎥⎥⎟  ⎜      ⎢⎢1⎥  ⎢0⎥⎥⎟⎥\n",
       "⎢⎜       ⎢⎢  ⎥⎥⎟  ⎜      ⎢⎢  ⎥⎥⎟  ⎜      ⎢⎢ ⎥  ⎢ ⎥⎥⎟⎥\n",
       "⎣⎝       ⎣⎣1 ⎦⎦⎠  ⎝      ⎣⎣0 ⎦⎦⎠  ⎝      ⎣⎣0⎦  ⎣1⎦⎦⎠⎦"
      ]
     },
     "execution_count": 7,
     "metadata": {},
     "output_type": "execute_result"
    }
   ],
   "source": [
    "# Tikrinės vertės, jų algebriniai kartotinumai, ir tikriniai vektoriai\n",
    "F.eigenvects()"
   ]
  },
  {
   "cell_type": "markdown",
   "id": "eadf79fc-9535-44c6-b61a-ead8f65c51ad",
   "metadata": {},
   "source": [
    "### Pavyzdys 3\n",
    "\n",
    "Suraskite tiesinio atvaizdavimo $f : \\mathbb{R}^4 \\to \\mathbb{R}^4$ apibrėžto taisykle\n",
    "\n",
    "$\n",
    "f(x,y,w,z) = (x+y+3z,y,0,0)\n",
    "$\n",
    "\n",
    "tikrinius vektorius ir tikrines erdves."
   ]
  },
  {
   "cell_type": "code",
   "execution_count": 8,
   "id": "60f9c837-45b9-4831-91bd-06f674b637b1",
   "metadata": {},
   "outputs": [
    {
     "data": {
      "image/png": "[encoded data removed]",
      "text/latex": [
       "$\\displaystyle \\left[\\begin{matrix}1 & 1 & 0 & 3\\\\0 & 1 & 0 & 0\\\\0 & 0 & 0 & 0\\\\0 & 0 & 0 & 0\\end{matrix}\\right]$"
      ],
      "text/plain": [
       "⎡1  1  0  3⎤\n",
       "⎢          ⎥\n",
       "⎢0  1  0  0⎥\n",
       "⎢          ⎥\n",
       "⎢0  0  0  0⎥\n",
       "⎢          ⎥\n",
       "⎣0  0  0  0⎦"
      ]
     },
     "execution_count": 8,
     "metadata": {},
     "output_type": "execute_result"
    }
   ],
   "source": [
    "# Atvaizdavimo matrica\n",
    "F = sym.Matrix([[1, 1, 0, 3], [0, 1, 0, 0], [0, 0, 0, 0], [0, 0, 0, 0]]); F"
   ]
  },
  {
   "cell_type": "code",
   "execution_count": 9,
   "id": "28ceb64a-2cf1-432c-9d78-f9cc7051f4c8",
   "metadata": {},
   "outputs": [
    {
     "data": {
      "image/png": "[encoded data removed]",
      "text/latex": [
       "$\\displaystyle \\left\\{ 0 : 2, \\  1 : 2\\right\\}$"
      ],
      "text/plain": [
       "{0: 2, 1: 2}"
      ]
     },
     "execution_count": 9,
     "metadata": {},
     "output_type": "execute_result"
    }
   ],
   "source": [
    "# Tikrinės vertės ir jų algebriniai kartotinumai\n",
    "F.eigenvals()"
   ]
  },
  {
   "cell_type": "code",
   "execution_count": 10,
   "id": "849662ce-56a1-4e2d-93c4-00ce5e1b6bed",
   "metadata": {},
   "outputs": [
    {
     "data": {
      "image/png": "[encoded data removed]",
      "text/latex": [
       "$\\displaystyle \\left[ \\left( 0, \\  2, \\  \\left[ \\left[\\begin{matrix}0\\\\0\\\\1\\\\0\\end{matrix}\\right], \\  \\left[\\begin{matrix}-3\\\\0\\\\0\\\\1\\end{matrix}\\right]\\right]\\right), \\  \\left( 1, \\  2, \\  \\left[ \\left[\\begin{matrix}1\\\\0\\\\0\\\\0\\end{matrix}\\right]\\right]\\right)\\right]$"
      ],
      "text/plain": [
       "⎡⎛      ⎡⎡0⎤  ⎡-3⎤⎤⎞  ⎛      ⎡⎡1⎤⎤⎞⎤\n",
       "⎢⎜      ⎢⎢ ⎥  ⎢  ⎥⎥⎟  ⎜      ⎢⎢ ⎥⎥⎟⎥\n",
       "⎢⎜      ⎢⎢0⎥  ⎢0 ⎥⎥⎟  ⎜      ⎢⎢0⎥⎥⎟⎥\n",
       "⎢⎜0, 2, ⎢⎢ ⎥, ⎢  ⎥⎥⎟, ⎜1, 2, ⎢⎢ ⎥⎥⎟⎥\n",
       "⎢⎜      ⎢⎢1⎥  ⎢0 ⎥⎥⎟  ⎜      ⎢⎢0⎥⎥⎟⎥\n",
       "⎢⎜      ⎢⎢ ⎥  ⎢  ⎥⎥⎟  ⎜      ⎢⎢ ⎥⎥⎟⎥\n",
       "⎣⎝      ⎣⎣0⎦  ⎣1 ⎦⎦⎠  ⎝      ⎣⎣0⎦⎦⎠⎦"
      ]
     },
     "execution_count": 10,
     "metadata": {},
     "output_type": "execute_result"
    }
   ],
   "source": [
    "# Tikrinės vertės, jų algebriniai kartotinumai, ir tikriniai vektoriai\n",
    "F.eigenvects()"
   ]
  }
 ],
 "metadata": {
  "kernelspec": {
   "display_name": "Python 3 (ipykernel)",
   "language": "python",
   "name": "python3"
  },
  "language_info": {
   "codemirror_mode": {
    "name": "ipython",
    "version": 3
   },
   "file_extension": ".py",
   "mimetype": "text/x-python",
   "name": "python",
   "nbconvert_exporter": "python",
   "pygments_lexer": "ipython3",
   "version": "3.11.7"
  }
 },
 "nbformat": 4,
 "nbformat_minor": 5
}
